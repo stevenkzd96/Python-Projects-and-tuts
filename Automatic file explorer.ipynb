{
 "cells": [
  {
   "cell_type": "markdown",
   "id": "fb684334",
   "metadata": {},
   "source": [
    "# Automatic File Explorer"
   ]
  },
  {
   "cell_type": "code",
   "execution_count": 68,
   "id": "0e1a94b1",
   "metadata": {},
   "outputs": [],
   "source": [
    "import os, shutil "
   ]
  },
  {
   "cell_type": "code",
   "execution_count": 69,
   "id": "5fe1424b",
   "metadata": {},
   "outputs": [],
   "source": [
    "path = r\"C:/Users/ACER/Downloads/python tut project/\"\n",
    "\n",
    "#the letter r before the link is just to read in the values and changed the slashes to then other way to be in the actual folder."
   ]
  },
  {
   "cell_type": "code",
   "execution_count": 79,
   "id": "dc869891",
   "metadata": {},
   "outputs": [],
   "source": [
    "file_name = os.listdir(path)"
   ]
  },
  {
   "cell_type": "code",
   "execution_count": 73,
   "id": "a45e6301",
   "metadata": {},
   "outputs": [
    {
     "data": {
      "text/plain": [
       "False"
      ]
     },
     "execution_count": 73,
     "metadata": {},
     "output_type": "execute_result"
    }
   ],
   "source": [
    "os.path.exists(path+'csv files')"
   ]
  },
  {
   "cell_type": "code",
   "execution_count": 74,
   "id": "53636003",
   "metadata": {},
   "outputs": [
    {
     "name": "stdout",
     "output_type": "stream",
     "text": [
      "C:/Users/ACER/Downloads/python tut project/csv files\n",
      "C:/Users/ACER/Downloads/python tut project/image files\n",
      "C:/Users/ACER/Downloads/python tut project/text files\n"
     ]
    }
   ],
   "source": [
    "folder_names = ['(path + folder_names[loop])', 'image files', 'text files']\n",
    "\n",
    "for loop in range(0,3):\n",
    "    if not os.path.exists(path + folder_names[loop]):\n",
    "        print((path + folder_names[loop]))\n",
    "        os.makedirs(path + folder_names[loop])\n",
    "        \n",
    "        #make directory is creates the file\n",
    "        # the colon to ensure the loop works"
   ]
  },
  {
   "cell_type": "code",
   "execution_count": 84,
   "id": "97d54c07",
   "metadata": {},
   "outputs": [],
   "source": [
    "for file in file_name:\n",
    "    if \".csv\"  in file and not os.path.exists(path + \"csv files/\" + file):\n",
    "        shutil.move(path + file, path + \"csv files/\" + file)\n",
    "    elif \".png\"  in file and not os.path.exists(path + \"image files/\" + file):\n",
    "        shutil.move(path + file, path + \"image files/\" + file)\n",
    "    elif \".docx\"  in file and not os.path.exists(path + \"text files/\" + file):\n",
    "        shutil.move(path + file, path + \"text files/\" + file)\n",
    "    \n",
    "    #had to change the file name as the reference point"
   ]
  },
  {
   "cell_type": "code",
   "execution_count": null,
   "id": "dff1d0f8",
   "metadata": {},
   "outputs": [],
   "source": []
  }
 ],
 "metadata": {
  "kernelspec": {
   "display_name": "Python 3 (ipykernel)",
   "language": "python",
   "name": "python3"
  },
  "language_info": {
   "codemirror_mode": {
    "name": "ipython",
    "version": 3
   },
   "file_extension": ".py",
   "mimetype": "text/x-python",
   "name": "python",
   "nbconvert_exporter": "python",
   "pygments_lexer": "ipython3",
   "version": "3.10.9"
  }
 },
 "nbformat": 4,
 "nbformat_minor": 5
}
