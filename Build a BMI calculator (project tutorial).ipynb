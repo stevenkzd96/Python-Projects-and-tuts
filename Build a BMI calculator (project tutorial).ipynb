{
 "cells": [
  {
   "cell_type": "markdown",
   "id": "321662f3",
   "metadata": {},
   "source": [
    "# BMI Calculator\n",
    "\n",
    "https://www.calculator.net/bmi-calculator.html"
   ]
  },
  {
   "cell_type": "code",
   "execution_count": 31,
   "id": "5c8a9b97",
   "metadata": {},
   "outputs": [
    {
     "name": "stdout",
     "output_type": "stream",
     "text": [
      "Enter your name: Steven Kazadi\n",
      "Enter your weight in kilograms: 73.5\n",
      "Enter your height in meters: 1.76\n",
      "23.728047520661157\n",
      "Steven Kazadi, you are normal weight.\n"
     ]
    }
   ],
   "source": [
    "name = input(\"Enter your name: \")\n",
    "weight = float(input(\"Enter your weight in kilograms: \"))\n",
    "height = float(input(\"Enter your height in meters: \"))\n",
    "\n",
    "BMI = weight / (height * height)\n",
    "\n",
    "print(BMI)\n",
    "\n",
    "if BMI > 0:\n",
    "    if BMI <= 18.5:\n",
    "        print(name + \", you are underweight.\")\n",
    "    elif BMI <= 25:\n",
    "        print(name + \", you are normal weight.\")\n",
    "    elif BMI <= 30:\n",
    "        print(name + \", you are overweight.\")\n",
    "    elif BMI <= 35:\n",
    "        print(name + \", you are obese.\")\n",
    "    elif BMI <= 40:\n",
    "        print(name + \", you are severely obese.\")\n",
    "    else:\n",
    "        print(name + \", you are morbidly obese.\")\n",
    "else:\n",
    "    print(\"Enter valid input.\")\n"
   ]
  },
  {
   "cell_type": "code",
   "execution_count": 9,
   "id": "b72602cb",
   "metadata": {},
   "outputs": [],
   "source": [
    "BMI = (weight) / (height * height)"
   ]
  },
  {
   "cell_type": "code",
   "execution_count": null,
   "id": "1b9096c1",
   "metadata": {},
   "outputs": [],
   "source": [
    "#BMI = (weight in Kg) / (height in m x height in m)"
   ]
  },
  {
   "cell_type": "code",
   "execution_count": null,
   "id": "1a4475a4",
   "metadata": {},
   "outputs": [],
   "source": [
    "print(weight)"
   ]
  },
  {
   "cell_type": "code",
   "execution_count": null,
   "id": "bb720c56",
   "metadata": {},
   "outputs": [],
   "source": [
    "Under 16\tUnderweight\tMinimal\n",
    "18.5 - 25\tNormal Weight\tMinimal\n",
    "25 - 30 \tOverweight\tIncreased\n",
    "30 - 35 \tObese\tHigh\n",
    "35 - 40 \tSeverely Obese\tVery High\n",
    "40 and over \tMorbidly Obese\tExtremely High"
   ]
  },
  {
   "cell_type": "code",
   "execution_count": 38,
   "id": "b1989bc5",
   "metadata": {},
   "outputs": [
    {
     "name": "stdout",
     "output_type": "stream",
     "text": [
      "s, you are normal weight.\n"
     ]
    }
   ],
   "source": [
    "\n",
    "if BMI > 0:\n",
    "    if BMI < 16:\n",
    "        print(name + \", you are underweight.\")\n",
    "    elif BMI < 25:\n",
    "        print(name + \", you are normal weight.\")\n",
    "    elif BMI < 30:\n",
    "        print(name + \", you are overweight.\")\n",
    "    elif BMI < 35:\n",
    "        print(name + \", you are obese.\")\n",
    "    elif BMI < 40:\n",
    "        print(name + \", you are severely obese.\")\n",
    "    else:\n",
    "        print(name + \", you are morbidly obese.\")\n",
    "else:\n",
    "    print(\"Enter valid input.\")\n"
   ]
  },
  {
   "cell_type": "code",
   "execution_count": null,
   "id": "145bad5b",
   "metadata": {},
   "outputs": [],
   "source": []
  },
  {
   "cell_type": "code",
   "execution_count": null,
   "id": "12abea83",
   "metadata": {},
   "outputs": [],
   "source": []
  },
  {
   "cell_type": "code",
   "execution_count": null,
   "id": "05466877",
   "metadata": {},
   "outputs": [],
   "source": []
  },
  {
   "cell_type": "markdown",
   "id": "3f064d09",
   "metadata": {},
   "source": [
    "# My Own"
   ]
  },
  {
   "cell_type": "code",
   "execution_count": 2,
   "id": "170a022c",
   "metadata": {},
   "outputs": [
    {
     "name": "stdout",
     "output_type": "stream",
     "text": [
      "Enter your weight in Kilograms:73\n"
     ]
    }
   ],
   "source": [
    "weight = input(\"Enter your weight in Kilograms:\")\n",
    "\n"
   ]
  },
  {
   "cell_type": "code",
   "execution_count": 3,
   "id": "5dab41e2",
   "metadata": {},
   "outputs": [
    {
     "name": "stdout",
     "output_type": "stream",
     "text": [
      "73\n"
     ]
    }
   ],
   "source": [
    "print(weight)"
   ]
  },
  {
   "cell_type": "code",
   "execution_count": 18,
   "id": "99ad84f8",
   "metadata": {},
   "outputs": [],
   "source": [
    "#BMI = (weight in pounds x 703) / (height in inches x height in inches)"
   ]
  },
  {
   "cell_type": "code",
   "execution_count": 21,
   "id": "fe6348f4",
   "metadata": {},
   "outputs": [
    {
     "data": {
      "text/plain": [
       "23.728047520661157"
      ]
     },
     "execution_count": 21,
     "metadata": {},
     "output_type": "execute_result"
    }
   ],
   "source": [
    "73.5/(1.76*1.76)"
   ]
  },
  {
   "cell_type": "code",
   "execution_count": null,
   "id": "25282b1a",
   "metadata": {},
   "outputs": [],
   "source": []
  }
 ],
 "metadata": {
  "kernelspec": {
   "display_name": "Python 3 (ipykernel)",
   "language": "python",
   "name": "python3"
  },
  "language_info": {
   "codemirror_mode": {
    "name": "ipython",
    "version": 3
   },
   "file_extension": ".py",
   "mimetype": "text/x-python",
   "name": "python",
   "nbconvert_exporter": "python",
   "pygments_lexer": "ipython3",
   "version": "3.10.9"
  }
 },
 "nbformat": 4,
 "nbformat_minor": 5
}
